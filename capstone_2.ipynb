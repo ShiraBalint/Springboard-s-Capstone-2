{
 "cells": [
  {
   "cell_type": "markdown",
   "metadata": {},
   "source": [
    "# CAPSTONE 2"
   ]
  },
  {
   "cell_type": "markdown",
   "metadata": {},
   "source": [
    "## Probelm statement:"
   ]
  },
  {
   "cell_type": "markdown",
   "metadata": {},
   "source": [
    "### *Step 1*: Importing the libreries that are needed - Pandas, Numpy, Seaborn and Matplotlib"
   ]
  },
  {
   "cell_type": "code",
   "execution_count": 2,
   "metadata": {},
   "outputs": [],
   "source": [
    "import matplotlib as mpl\n",
    "mpl.rcParams['figure.figsize'] = (20,5)\n",
    "import matplotlib.pyplot as plt \n",
    "import matplotlib.dates as md\n",
    "%matplotlib inline\n",
    "import seaborn as sns\n",
    "import pandas as pd\n",
    "import statsmodels.api as sm\n",
    "import datetime"
   ]
  },
  {
   "cell_type": "markdown",
   "metadata": {},
   "source": [
    "### *Step 2*: Importing dataframes and string them into their individual dataframes"
   ]
  },
  {
   "cell_type": "code",
   "execution_count": 4,
   "metadata": {},
   "outputs": [],
   "source": [
    "nov2019 = pd.read_csv('2019-Nov.csv', index_col=False)\n",
    "dec2019 = pd.read_csv('2019-Dec.csv', index_col=False)\n",
    "jan2020 = pd.read_csv('2020-Jan.csv', index_col=False)"
   ]
  },
  {
   "cell_type": "markdown",
   "metadata": {},
   "source": [
    "### *Step 3*: Merging all dataframes into one dataframe and printing it .info() and .describe()"
   ]
  },
  {
   "cell_type": "code",
   "execution_count": 5,
   "metadata": {},
   "outputs": [
    {
     "name": "stdout",
     "output_type": "stream",
     "text": [
      "<class 'pandas.core.frame.DataFrame'>\n",
      "Int64Index: 12433875 entries, 0 to 4264751\n",
      "Data columns (total 9 columns):\n",
      " #   Column         Dtype  \n",
      "---  ------         -----  \n",
      " 0   event_time     object \n",
      " 1   event_type     object \n",
      " 2   product_id     int64  \n",
      " 3   category_id    int64  \n",
      " 4   category_code  object \n",
      " 5   brand          object \n",
      " 6   price          float64\n",
      " 7   user_id        int64  \n",
      " 8   user_session   object \n",
      "dtypes: float64(1), int64(3), object(5)\n",
      "memory usage: 948.6+ MB\n",
      "None count    1.243388e+07\n",
      "mean     8.537646e+00\n",
      "std      1.939595e+01\n",
      "min     -7.937000e+01\n",
      "25%      2.060000e+00\n",
      "50%      4.000000e+00\n",
      "75%      6.980000e+00\n",
      "max      3.277800e+02\n",
      "Name: price, dtype: float64\n"
     ]
    }
   ],
   "source": [
    "alldata = pd.concat([nov2019,dec2019,jan2020])\n",
    "print(alldata.info(), alldata.price.describe())"
   ]
  },
  {
   "cell_type": "markdown",
   "metadata": {},
   "source": [
    "### *Step 4*: Cleaning the data - removing NULL values and Category Code column (partial data)"
   ]
  },
  {
   "cell_type": "code",
   "execution_count": 6,
   "metadata": {},
   "outputs": [
    {
     "name": "stdout",
     "output_type": "stream",
     "text": [
      "<class 'pandas.core.frame.DataFrame'>\n",
      "Int64Index: 12433875 entries, 0 to 4264751\n",
      "Data columns (total 8 columns):\n",
      " #   Column        Dtype  \n",
      "---  ------        -----  \n",
      " 0   event_time    object \n",
      " 1   event_type    object \n",
      " 2   product_id    int64  \n",
      " 3   category_id   int64  \n",
      " 4   brand         object \n",
      " 5   price         float64\n",
      " 6   user_id       int64  \n",
      " 7   user_session  object \n",
      "dtypes: float64(1), int64(3), object(4)\n",
      "memory usage: 853.8+ MB\n",
      "None\n",
      "<class 'pandas.core.frame.DataFrame'>\n",
      "Int64Index: 7160072 entries, 2 to 4264746\n",
      "Data columns (total 8 columns):\n",
      " #   Column        Dtype  \n",
      "---  ------        -----  \n",
      " 0   event_time    object \n",
      " 1   event_type    object \n",
      " 2   product_id    int64  \n",
      " 3   category_id   int64  \n",
      " 4   brand         object \n",
      " 5   price         float64\n",
      " 6   user_id       int64  \n",
      " 7   user_session  object \n",
      "dtypes: float64(1), int64(3), object(4)\n",
      "memory usage: 491.6+ MB\n",
      "None\n"
     ]
    }
   ],
   "source": [
    "# Removing Category Code column\n",
    "alldata1 = alldata.drop(columns = 'category_code')\n",
    "print (alldata1.info())\n",
    "\n",
    "# Removing rows with NULL values (in any column)\n",
    "alldata_1 = alldata1.dropna()\n",
    "print (alldata_1.info())"
   ]
  },
  {
   "cell_type": "markdown",
   "metadata": {},
   "source": [
    "### *Step 5*: Understanding the users\n",
    "In this step I will answer the following question, to get a better indersatnding of the data::\n",
    "1. How many unique users baught cosmetics online?\n",
    "2. What are the Daily Active Users (DAU)?\n",
    "3. Who were the top 5 users during this five month period of time and how much did they spend in total?\n",
    "4. What are the different event types and how often do they happen? \n",
    "5. **Funnel**- what is the funnel process looks like?"
   ]
  },
  {
   "cell_type": "markdown",
   "metadata": {},
   "source": [
    "1. Count of unique user_id"
   ]
  },
  {
   "cell_type": "code",
   "execution_count": 7,
   "metadata": {},
   "outputs": [
    {
     "name": "stdout",
     "output_type": "stream",
     "text": [
      "There are 751361 unique users in this five months period\n"
     ]
    }
   ],
   "source": [
    "unique_users= alldata_1['user_id'].nunique()\n",
    "print(\"There are \"+ str(unique_users) + \" unique users in this five months period\")"
   ]
  },
  {
   "cell_type": "markdown",
   "metadata": {},
   "source": [
    "2. DAU - Daily Active Users"
   ]
  },
  {
   "cell_type": "code",
   "execution_count": 9,
   "metadata": {},
   "outputs": [
    {
     "data": {
      "text/plain": [
       "date\n",
       "2019-11-01    10736\n",
       "2019-11-02    10598\n",
       "2019-11-03    11156\n",
       "2019-11-04    11649\n",
       "2019-11-05    12925\n",
       "              ...  \n",
       "2020-01-27    16483\n",
       "2020-01-28    15689\n",
       "2020-01-29    15515\n",
       "2020-01-30    15533\n",
       "2020-01-31    16113\n",
       "Name: user_id, Length: 92, dtype: int64"
      ]
     },
     "execution_count": 9,
     "metadata": {},
     "output_type": "execute_result"
    }
   ],
   "source": [
    "import datetime\n",
    "pd.set_option('mode.chained_assignment', None)\n",
    "# Switching event_time from an object to a datetime type:\n",
    "alldata_1['event_time'] = pd.to_datetime(alldata_1['event_time'])\n",
    "# Extract the date from the datetime:\n",
    "alldata_1['date'] = alldata_1['event_time'].dt.date\n",
    "# Calculating Daily Active Users:\n",
    "alldata_1.groupby('date')['user_id'].nunique()"
   ]
  },
  {
   "cell_type": "markdown",
   "metadata": {},
   "source": [
    "3. Top five (purchasing) users and the span of their purchases"
   ]
  },
  {
   "cell_type": "code",
   "execution_count": 11,
   "metadata": {},
   "outputs": [
    {
     "name": "stdout",
     "output_type": "stream",
     "text": [
      "           len\n",
      "user_id       \n",
      "493840329  224\n",
      "556579890  221\n",
      "514908450  206\n",
      "539636703  190\n",
      "575709540  188\n"
     ]
    },
    {
     "data": {
      "text/plain": [
       "Text(0.5, 1.0, 'Total Money Spent By Top Users')"
      ]
     },
     "execution_count": 11,
     "metadata": {},
     "output_type": "execute_result"
    },
    {
     "data": {
      "image/png": "[encoded data removed]",
      "text/plain": [
       "<Figure size 1440x720 with 1 Axes>"
      ]
     },
     "metadata": {
      "needs_background": "light"
     },
     "output_type": "display_data"
    }
   ],
   "source": [
    "# First I will get all the purchased events\n",
    "only_purchase = alldata_1.loc[alldata_1.event_type == 'purchase']\n",
    "# Then I will get the purchases with the unique user IDs that are tied to them (and not null)\n",
    "purchase_users = only_purchase.loc[only_purchase.user_id.notnull()]\n",
    "# Then I could get the top 5 users:\n",
    "top_users = purchase_users.groupby('user_id').user_id.agg([len]).sort_values(by='len', ascending=False)\n",
    "print(top_users.head(5))\n",
    "# Now I created a variable for each of the top 5 users to get the total that they spent:\n",
    "user_a = alldata_1.loc[alldata_1.user_id == 493840329].price.sum()\n",
    "user_b = alldata_1.loc[alldata_1.user_id == 556579890].price.sum()\n",
    "user_c = alldata_1.loc[alldata_1.user_id == 514908450].price.sum()\n",
    "user_d = alldata_1.loc[alldata_1.user_id == 539636703].price.sum()\n",
    "user_e = alldata_1.loc[alldata_1.user_id == 575709540].price.sum()\n",
    "y1= [user_a,user_b,user_c,user_d,user_e]\n",
    "x1= ['User A', 'User B', 'User C', 'User D', 'User E']\n",
    "mpl.rcParams['figure.figsize'] = (20,10)\n",
    "plt.bar(x1,y1)\n",
    "plt.title('Total Money Spent By Top Users')"
   ]
  },
  {
   "cell_type": "markdown",
   "metadata": {},
   "source": [
    "4. Event types and how often they occured"
   ]
  },
  {
   "cell_type": "code",
   "execution_count": 12,
   "metadata": {},
   "outputs": [
    {
     "name": "stdout",
     "output_type": "stream",
     "text": [
      "view                3418751\n",
      "cart                1927094\n",
      "remove_from_cart    1356184\n",
      "purchase             458043\n",
      "Name: event_type, dtype: int64 7160072\n"
     ]
    },
    {
     "data": {
      "text/plain": [
       "<matplotlib.axes._subplots.AxesSubplot at 0x20958a824c0>"
      ]
     },
     "execution_count": 12,
     "metadata": {},
     "output_type": "execute_result"
    },
    {
     "data": {
      "image/png": "[encoded data removed]",
      "text/plain": [
       "<Figure size 360x720 with 1 Axes>"
      ]
     },
     "metadata": {},
     "output_type": "display_data"
    }
   ],
   "source": [
    "e_types = alldata_1[\"event_type\"].value_counts()\n",
    "mpl.rcParams['figure.figsize'] = (5,10)\n",
    "print(e_types, e_types.sum())\n",
    "e_types.plot.pie(title= 'Percentage of event type occurances', autopct='%1.0f%%')"
   ]
  },
  {
   "cell_type": "markdown",
   "metadata": {},
   "source": [
    "5. Funnel process"
   ]
  },
  {
   "cell_type": "code",
   "execution_count": 31,
   "metadata": {},
   "outputs": [
    {
     "data": {
      "image/png": "[encoded data removed]",
      "text/plain": [
       "<Figure size 1440x720 with 1 Axes>"
      ]
     },
     "metadata": {
      "needs_background": "light"
     },
     "output_type": "display_data"
    }
   ],
   "source": [
    "import matplotlib.pyplot as plt\n",
    "import matplotlib.image as mpimg\n",
    "mpl.rcParams['figure.figsize'] = (20,10)\n",
    "img = mpimg.imread('C:/Users/Shira/Desktop/SpringBoard/Capstone2/flowchart.jpg')\n",
    "imgplot = plt.imshow(img)"
   ]
  },
  {
   "cell_type": "markdown",
   "metadata": {},
   "source": [
    "### *Step 6*: Understanting the market\n",
    "In this step I will answer the following questions, to get a better indersatnding of the data:\n",
    "1. What was the monthly revenue from selling cosmetics each month?\n",
    "2. Which were the top 5 brands sold in this five months period of time?\n",
    "3. Which brands sold the least in this five months period of time?"
   ]
  },
  {
   "cell_type": "markdown",
   "metadata": {},
   "source": [
    "1. Monthly revenue"
   ]
  },
  {
   "cell_type": "code",
   "execution_count": 13,
   "metadata": {},
   "outputs": [
    {
     "data": {
      "text/plain": [
       "Text(0.5, 1.0, 'Monthly Reveneu Comperison (in millions)')"
      ]
     },
     "execution_count": 13,
     "metadata": {},
     "output_type": "execute_result"
    },
    {
     "data": {
      "image/png": "[encoded data removed]",
      "text/plain": [
       "<Figure size 1440x360 with 1 Axes>"
      ]
     },
     "metadata": {
      "needs_background": "light"
     },
     "output_type": "display_data"
    }
   ],
   "source": [
    "# First I make sure I will include only the events that showed a purchase:\n",
    "nov19_purchase = nov2019.loc[nov2019.event_type == 'purchase']\n",
    "dec19_purchase = dec2019.loc[dec2019.event_type == 'purchase']\n",
    "jan20_purchase = jan2020.loc[jan2020.event_type == 'purchase']\n",
    "# Then I will get the sum of price for each month and give it a variable (and limit it to 2 decimals):\n",
    "November19 = round(nov19_purchase.price.sum(),2)\n",
    "December19 = round(dec19_purchase.price.sum(),2)\n",
    "January20 = round(jan20_purchase.price.sum(),2)\n",
    "# Then I will plot it as a bar chart:\n",
    "y = [November19, December19, January20]\n",
    "x= ['November 19', 'December 19', 'January 20']\n",
    "mpl.rcParams['figure.figsize'] = 20,5\n",
    "plt.bar(x,y, color='red')\n",
    "plt.title('Monthly Reveneu Comperison (in millions)')"
   ]
  },
  {
   "cell_type": "markdown",
   "metadata": {},
   "source": [
    "2. Top 5 brands"
   ]
  },
  {
   "cell_type": "code",
   "execution_count": 14,
   "metadata": {},
   "outputs": [
    {
     "data": {
      "text/html": [
       "<div>\n",
       "<style scoped>\n",
       "    .dataframe tbody tr th:only-of-type {\n",
       "        vertical-align: middle;\n",
       "    }\n",
       "\n",
       "    .dataframe tbody tr th {\n",
       "        vertical-align: top;\n",
       "    }\n",
       "\n",
       "    .dataframe thead th {\n",
       "        text-align: right;\n",
       "    }\n",
       "</style>\n",
       "<table border=\"1\" class=\"dataframe\">\n",
       "  <thead>\n",
       "    <tr style=\"text-align: right;\">\n",
       "      <th></th>\n",
       "      <th>len</th>\n",
       "    </tr>\n",
       "    <tr>\n",
       "      <th>brand</th>\n",
       "      <th></th>\n",
       "    </tr>\n",
       "  </thead>\n",
       "  <tbody>\n",
       "    <tr>\n",
       "      <th>runail</th>\n",
       "      <td>70794</td>\n",
       "    </tr>\n",
       "    <tr>\n",
       "      <th>irisk</th>\n",
       "      <td>41778</td>\n",
       "    </tr>\n",
       "    <tr>\n",
       "      <th>grattol</th>\n",
       "      <td>33612</td>\n",
       "    </tr>\n",
       "    <tr>\n",
       "      <th>masura</th>\n",
       "      <td>30700</td>\n",
       "    </tr>\n",
       "    <tr>\n",
       "      <th>bpw.style</th>\n",
       "      <td>24175</td>\n",
       "    </tr>\n",
       "  </tbody>\n",
       "</table>\n",
       "</div>"
      ],
      "text/plain": [
       "             len\n",
       "brand           \n",
       "runail     70794\n",
       "irisk      41778\n",
       "grattol    33612\n",
       "masura     30700\n",
       "bpw.style  24175"
      ]
     },
     "execution_count": 14,
     "metadata": {},
     "output_type": "execute_result"
    }
   ],
   "source": [
    "# First I will get only the events that showed a purchase:\n",
    "only_purchase = alldata_1.loc[alldata_1.event_type == 'purchase']\n",
    "# Then I will get the pruchases that had a brand tied to them:\n",
    "purchases_brands = only_purchase.loc[only_purchase.brand.notnull()]\n",
    "# Then I could get the top 5 brands:\n",
    "top_five_brands = purchases_brands.groupby('brand').brand.agg([len]).sort_values(by='len', ascending=False)\n",
    "top_five_brands.head(5)"
   ]
  },
  {
   "cell_type": "markdown",
   "metadata": {},
   "source": [
    "3. The 10 brands that sold the least"
   ]
  },
  {
   "cell_type": "code",
   "execution_count": 15,
   "metadata": {},
   "outputs": [
    {
     "data": {
      "text/html": [
       "<div>\n",
       "<style scoped>\n",
       "    .dataframe tbody tr th:only-of-type {\n",
       "        vertical-align: middle;\n",
       "    }\n",
       "\n",
       "    .dataframe tbody tr th {\n",
       "        vertical-align: top;\n",
       "    }\n",
       "\n",
       "    .dataframe thead th {\n",
       "        text-align: right;\n",
       "    }\n",
       "</style>\n",
       "<table border=\"1\" class=\"dataframe\">\n",
       "  <thead>\n",
       "    <tr style=\"text-align: right;\">\n",
       "      <th></th>\n",
       "      <th>len</th>\n",
       "    </tr>\n",
       "    <tr>\n",
       "      <th>brand</th>\n",
       "      <th></th>\n",
       "    </tr>\n",
       "  </thead>\n",
       "  <tbody>\n",
       "    <tr>\n",
       "      <th>sun</th>\n",
       "      <td>1</td>\n",
       "    </tr>\n",
       "    <tr>\n",
       "      <th>helloganic</th>\n",
       "      <td>1</td>\n",
       "    </tr>\n",
       "    <tr>\n",
       "      <th>andrea</th>\n",
       "      <td>2</td>\n",
       "    </tr>\n",
       "    <tr>\n",
       "      <th>esquire</th>\n",
       "      <td>2</td>\n",
       "    </tr>\n",
       "    <tr>\n",
       "      <th>gezatone</th>\n",
       "      <td>3</td>\n",
       "    </tr>\n",
       "    <tr>\n",
       "      <th>neoleor</th>\n",
       "      <td>3</td>\n",
       "    </tr>\n",
       "    <tr>\n",
       "      <th>frozen</th>\n",
       "      <td>3</td>\n",
       "    </tr>\n",
       "    <tr>\n",
       "      <th>kondor</th>\n",
       "      <td>3</td>\n",
       "    </tr>\n",
       "    <tr>\n",
       "      <th>weaver</th>\n",
       "      <td>3</td>\n",
       "    </tr>\n",
       "    <tr>\n",
       "      <th>rocknailstar</th>\n",
       "      <td>3</td>\n",
       "    </tr>\n",
       "  </tbody>\n",
       "</table>\n",
       "</div>"
      ],
      "text/plain": [
       "              len\n",
       "brand            \n",
       "sun             1\n",
       "helloganic      1\n",
       "andrea          2\n",
       "esquire         2\n",
       "gezatone        3\n",
       "neoleor         3\n",
       "frozen          3\n",
       "kondor          3\n",
       "weaver          3\n",
       "rocknailstar    3"
      ]
     },
     "execution_count": 15,
     "metadata": {},
     "output_type": "execute_result"
    }
   ],
   "source": [
    "bottom_five_brands = purchases_brands.groupby('brand').brand.agg([len]).sort_values(by='len', ascending=True)\n",
    "bottom_five_brands.head(10)"
   ]
  },
  {
   "cell_type": "markdown",
   "metadata": {},
   "source": [
    "### *Step 6*: Convert the dataframe into a CSV file for further analysis in Tableau"
   ]
  },
  {
   "cell_type": "code",
   "execution_count": 16,
   "metadata": {},
   "outputs": [],
   "source": [
    "alldata_1.to_csv('capstone_2.csv')"
   ]
  },
  {
   "cell_type": "code",
   "execution_count": 17,
   "metadata": {},
   "outputs": [
    {
     "name": "stdout",
     "output_type": "stream",
     "text": [
      "<class 'pandas.core.frame.DataFrame'>\n",
      "RangeIndex: 7160072 entries, 0 to 7160071\n",
      "Data columns (total 11 columns):\n",
      " #   Column        Dtype  \n",
      "---  ------        -----  \n",
      " 0   Unnamed: 0    int64  \n",
      " 1   event_time    object \n",
      " 2   event_type    object \n",
      " 3   product_id    int64  \n",
      " 4   category_id   int64  \n",
      " 5   brand         object \n",
      " 6   price         float64\n",
      " 7   user_id       int64  \n",
      " 8   user_session  object \n",
      " 9   DATE          object \n",
      " 10  date          object \n",
      "dtypes: float64(1), int64(4), object(6)\n",
      "memory usage: 600.9+ MB\n",
      "None\n"
     ]
    }
   ],
   "source": [
    "testing = pd.read_csv('capstone_2.csv', index_col=False)\n",
    "print(testing.info())"
   ]
  },
  {
   "cell_type": "code",
   "execution_count": null,
   "metadata": {},
   "outputs": [],
   "source": []
  }
 ],
 "metadata": {
  "kernelspec": {
   "display_name": "Python 3",
   "language": "python",
   "name": "python3"
  },
  "language_info": {
   "codemirror_mode": {
    "name": "ipython",
    "version": 3
   },
   "file_extension": ".py",
   "mimetype": "text/x-python",
   "name": "python",
   "nbconvert_exporter": "python",
   "pygments_lexer": "ipython3",
   "version": "3.8.3"
  }
 },
 "nbformat": 4,
 "nbformat_minor": 4
}
